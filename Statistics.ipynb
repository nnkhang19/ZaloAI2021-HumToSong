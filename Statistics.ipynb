{
 "cells": [
  {
   "cell_type": "code",
   "execution_count": 1,
   "id": "055c38b8",
   "metadata": {},
   "outputs": [],
   "source": [
    "import os\n",
    "import numpy as np\n",
    "import librosa\n",
    "import pandas as pd\n",
    "import matplotlib.pyplot as plt\n",
    "from scipy.io import wavfile as wav\n",
    "from tqdm import tqdm\n",
    "import warnings\n",
    "warnings.filterwarnings('ignore')"
   ]
  },
  {
   "cell_type": "code",
   "execution_count": 12,
   "id": "4102176e",
   "metadata": {},
   "outputs": [],
   "source": [
    "file_path = 'train/song/0002.mp3'\n",
    "audio, sample_rate = librosa.load(file_path)"
   ]
  },
  {
   "cell_type": "code",
   "execution_count": 48,
   "id": "4ffcff42",
   "metadata": {},
   "outputs": [],
   "source": [
    "def get_durations(folder_path):\n",
    "    durations = []\n",
    "    for file_ in tqdm(os.listdir(folder_path)):\n",
    "        path = os.path.join(folder_path, file_)\n",
    "        audio, sample_rate = librosa.load(path)\n",
    "        durations.append(librosa.get_duration(y = audio, sr = sample_rate))\n",
    "    return np.array(durations)"
   ]
  },
  {
   "cell_type": "code",
   "execution_count": 49,
   "id": "5b815a0f",
   "metadata": {},
   "outputs": [
    {
     "name": "stderr",
     "output_type": "stream",
     "text": [
      "100%|███████████████████████████████████████| 2901/2901 [35:38<00:00,  1.36it/s]\n"
     ]
    }
   ],
   "source": [
    "song_duration = get_durations('train/song/')"
   ]
  },
  {
   "cell_type": "code",
   "execution_count": 50,
   "id": "17803596",
   "metadata": {},
   "outputs": [
    {
     "name": "stderr",
     "output_type": "stream",
     "text": [
      "100%|███████████████████████████████████████| 2901/2901 [18:10<00:00,  2.66it/s]\n"
     ]
    },
    {
     "data": {
      "image/png": "[encoded data removed]",
      "text/plain": [
       "<Figure size 432x288 with 1 Axes>"
      ]
     },
     "metadata": {
      "needs_background": "light"
     },
     "output_type": "display_data"
    }
   ],
   "source": [
    "hum_duration = plot_histogram('train/hum')"
   ]
  },
  {
   "cell_type": "code",
   "execution_count": 52,
   "id": "62582b28",
   "metadata": {},
   "outputs": [],
   "source": [
    "#with open('song_durations.npy', 'wb') as file:\n",
    " #   np.save(file, song_duration)\n",
    "#with open('hum_duration.npy', 'wb') as file:\n",
    " #   np.save(file, hum_duration)"
   ]
  },
  {
   "cell_type": "code",
   "execution_count": 2,
   "id": "e3c076dc",
   "metadata": {},
   "outputs": [],
   "source": [
    "with open('song_durations.npy', 'rb') as file:\n",
    "    song_duration = np.load(file)\n",
    "    \n",
    "with open('hum_duration.npy', 'rb') as file:\n",
    "    hum_duration = np.load(file)"
   ]
  },
  {
   "cell_type": "code",
   "execution_count": 3,
   "id": "59ccace7",
   "metadata": {},
   "outputs": [
    {
     "data": {
      "image/png": "[encoded data removed]",
      "text/plain": [
       "<Figure size 432x288 with 1 Axes>"
      ]
     },
     "metadata": {
      "needs_background": "light"
     },
     "output_type": "display_data"
    }
   ],
   "source": [
    "bins = np.linspace(0, 30, 5)\n",
    "\n",
    "plt.hist([hum_duration, song_duration], label=['hum duration', 'song duration'])\n",
    "plt.legend(loc='upper right')\n",
    "plt.show()"
   ]
  },
  {
   "cell_type": "code",
   "execution_count": null,
   "id": "755f1a64",
   "metadata": {},
   "outputs": [],
   "source": []
  }
 ],
 "metadata": {
  "kernelspec": {
   "display_name": "Python 3 (ipykernel)",
   "language": "python",
   "name": "python3"
  },
  "language_info": {
   "codemirror_mode": {
    "name": "ipython",
    "version": 3
   },
   "file_extension": ".py",
   "mimetype": "text/x-python",
   "name": "python",
   "nbconvert_exporter": "python",
   "pygments_lexer": "ipython3",
   "version": "3.8.8"
  }
 },
 "nbformat": 4,
 "nbformat_minor": 5
}
